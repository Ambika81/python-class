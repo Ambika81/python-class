{
 "cells": [
  {
   "cell_type": "code",
   "execution_count": 1,
   "metadata": {},
   "outputs": [],
   "source": [
    "f=open(\"firstfile.txt\",\"w+\")\n",
    "for i in range(10):\n",
    "     f.write(\"This is line %d\\r\\n\" % (i+1))"
   ]
  },
  {
   "cell_type": "code",
   "execution_count": 7,
   "metadata": {},
   "outputs": [],
   "source": [
    "f=open(\"firstfile.txt\",\"a+\")\n",
    "for i in range(2):\n",
    "     f.write(\"Appended paragrapgh %d\\r\\n\" % (i+1))"
   ]
  },
  {
   "cell_type": "code",
   "execution_count": 15,
   "metadata": {},
   "outputs": [
    {
     "name": "stdout",
     "output_type": "stream",
     "text": [
      "This is line 1\n",
      "\n",
      "\n",
      "\n",
      "This is line 2\n",
      "\n",
      "\n",
      "\n",
      "This is line 3\n",
      "\n",
      "\n",
      "\n",
      "This is line 4\n",
      "\n",
      "\n",
      "\n",
      "This is line 5\n",
      "\n",
      "\n",
      "\n",
      "This is line 6\n",
      "\n",
      "\n",
      "\n",
      "This is line 7\n",
      "\n",
      "\n",
      "\n",
      "This is line 8\n",
      "\n",
      "\n",
      "\n",
      "This is line 9\n",
      "\n",
      "\n",
      "\n",
      "This is line 10\n",
      "\n",
      "\n",
      "\n",
      "Appended paragraph 1\n",
      "\n",
      "\n",
      "\n",
      "Appended paragraph 2\n",
      "\n",
      "\n",
      "\n",
      "Appended line 1\n",
      "\n",
      "\n",
      "\n",
      "Appended line 2\n",
      "\n",
      "\n",
      "\n",
      "Appended paragrapgh 1\n",
      "\n",
      "\n",
      "\n",
      "Appended paragrapgh 2\n",
      "\n",
      "\n",
      "\n"
     ]
    }
   ],
   "source": [
    "f=open(\"firstfile.txt\", \"r\")\n",
    "fl =f.readlines()\n",
    "for x in fl:\n",
    "    \n",
    "    #f.read(\"This is line %d\\r\\n\" % (i+1))#doubt\n",
    "  print(x)"
   ]
  },
  {
   "cell_type": "code",
   "execution_count": 18,
   "metadata": {},
   "outputs": [
    {
     "ename": "SyntaxError",
     "evalue": "invalid syntax (<ipython-input-18-213ab182578b>, line 8)",
     "output_type": "error",
     "traceback": [
      "\u001b[1;36m  File \u001b[1;32m\"<ipython-input-18-213ab182578b>\"\u001b[1;36m, line \u001b[1;32m8\u001b[0m\n\u001b[1;33m    except ValueError as e:\u001b[0m\n\u001b[1;37m    ^\u001b[0m\n\u001b[1;31mSyntaxError\u001b[0m\u001b[1;31m:\u001b[0m invalid syntax\n"
     ]
    }
   ],
   "source": [
    "#errors and exceptions\n",
    "try:\n",
    "    i=int(input(\"Enter a positive integer value:\"))\n",
    "    if i <=0:\n",
    "        raise ValueError(i,\"is not a positive number.\")\n",
    "    else:\n",
    "        print(i,\"is a positive number.\")\n",
    "    except ValueError as e:\n",
    "    print(e)\n",
    "            "
   ]
  },
  {
   "cell_type": "code",
   "execution_count": 9,
   "metadata": {},
   "outputs": [
    {
     "ename": "Exception",
     "evalue": "Sorry, no numbers below zero",
     "output_type": "error",
     "traceback": [
      "\u001b[1;31m---------------------------------------------------------------------------\u001b[0m",
      "\u001b[1;31mException\u001b[0m                                 Traceback (most recent call last)",
      "\u001b[1;32m<ipython-input-9-38d99b44ff2c>\u001b[0m in \u001b[0;36m<module>\u001b[1;34m\u001b[0m\n\u001b[0;32m      3\u001b[0m \u001b[1;33m\u001b[0m\u001b[0m\n\u001b[0;32m      4\u001b[0m \u001b[1;32mif\u001b[0m \u001b[0mx\u001b[0m \u001b[1;33m<\u001b[0m \u001b[1;36m0\u001b[0m\u001b[1;33m:\u001b[0m\u001b[1;33m\u001b[0m\u001b[1;33m\u001b[0m\u001b[0m\n\u001b[1;32m----> 5\u001b[1;33m   \u001b[1;32mraise\u001b[0m \u001b[0mException\u001b[0m\u001b[1;33m(\u001b[0m\u001b[1;34m\"Sorry, no numbers below zero\"\u001b[0m\u001b[1;33m)\u001b[0m\u001b[1;33m\u001b[0m\u001b[1;33m\u001b[0m\u001b[0m\n\u001b[0m",
      "\u001b[1;31mException\u001b[0m: Sorry, no numbers below zero"
     ]
    }
   ],
   "source": [
    "#Rasing exception \n",
    "x = -6\n",
    "\n",
    "if x < 0:\n",
    "  raise Exception(\"Sorry, no numbers below zero\")"
   ]
  },
  {
   "cell_type": "code",
   "execution_count": null,
   "metadata": {},
   "outputs": [],
   "source": []
  }
 ],
 "metadata": {
  "kernelspec": {
   "display_name": "Python 3",
   "language": "python",
   "name": "python3"
  },
  "language_info": {
   "codemirror_mode": {
    "name": "ipython",
    "version": 3
   },
   "file_extension": ".py",
   "mimetype": "text/x-python",
   "name": "python",
   "nbconvert_exporter": "python",
   "pygments_lexer": "ipython3",
   "version": "3.8.3"
  }
 },
 "nbformat": 4,
 "nbformat_minor": 4
}
