{
 "cells": [
  {
   "cell_type": "code",
   "execution_count": null,
   "metadata": {},
   "outputs": [],
   "source": [
    "# 1. write a while loop to print \"Hello Geeks\" ()\n",
    "\n",
    "\n",
    "# 2. Write a if condition to check whether the given number is positive.\n",
    "\n",
    "# input a number using \"user input tatement\"\n",
    "# write a if condition to check the given number is positive or negative\n",
    "\n",
    "3. # write an nested if and elif to check the given number is greater than 20\n",
    "\n",
    "4. #write an while to check given 'n' and if 'n' equals 7..exit the program\n",
    "\n",
    "# 5 assignments \n",
    "# for loop\n",
    "\n",
    "#a. Prints out the numbers 0,1,2,3,4\n",
    "#b. Prints out 3,4,5\n",
    "#c. Prints out only odd numbers - 1,3,5,7,9\n"
   ]
  }
 ],
 "metadata": {
  "kernelspec": {
   "display_name": "Python 3",
   "language": "python",
   "name": "python3"
  },
  "language_info": {
   "codemirror_mode": {
    "name": "ipython",
    "version": 3
   },
   "file_extension": ".py",
   "mimetype": "text/x-python",
   "name": "python",
   "nbconvert_exporter": "python",
   "pygments_lexer": "ipython3",
   "version": "3.7.4"
  }
 },
 "nbformat": 4,
 "nbformat_minor": 4
}
