{
 "cells": [
  {
   "cell_type": "code",
   "execution_count": 6,
   "metadata": {},
   "outputs": [
    {
     "ename": "ModuleNotFoundError",
     "evalue": "No module named 'mymodule'",
     "output_type": "error",
     "traceback": [
      "\u001b[1;31m---------------------------------------------------------------------------\u001b[0m",
      "\u001b[1;31mModuleNotFoundError\u001b[0m                       Traceback (most recent call last)",
      "\u001b[1;32m<ipython-input-6-822ec6349aa5>\u001b[0m in \u001b[0;36m<module>\u001b[1;34m\u001b[0m\n\u001b[0;32m     10\u001b[0m \u001b[1;31m# Now we can use the module we just created, by using the import statement:\u001b[0m\u001b[1;33m\u001b[0m\u001b[1;33m\u001b[0m\u001b[1;33m\u001b[0m\u001b[0m\n\u001b[0;32m     11\u001b[0m \u001b[1;31m# Import the module named mymodule, and call the wel function\u001b[0m\u001b[1;33m\u001b[0m\u001b[1;33m\u001b[0m\u001b[1;33m\u001b[0m\u001b[0m\n\u001b[1;32m---> 12\u001b[1;33m \u001b[1;32mimport\u001b[0m \u001b[0mmymodule\u001b[0m\u001b[1;33m\u001b[0m\u001b[1;33m\u001b[0m\u001b[0m\n\u001b[0m\u001b[0;32m     13\u001b[0m \u001b[1;33m\u001b[0m\u001b[0m\n\u001b[0;32m     14\u001b[0m \u001b[0mclass8\u001b[0m\u001b[1;33m.\u001b[0m\u001b[0mwel\u001b[0m\u001b[1;33m(\u001b[0m\u001b[1;34m\"Jonathan\"\u001b[0m\u001b[1;33m)\u001b[0m\u001b[1;33m\u001b[0m\u001b[1;33m\u001b[0m\u001b[0m\n",
      "\u001b[1;31mModuleNotFoundError\u001b[0m: No module named 'mymodule'"
     ]
    }
   ],
   "source": [
    "# Module\n",
    "#Consider a module to be the same as a code library.\n",
    "#A file containing a set of functions you want to include in your application.\n",
    "\n",
    "#To create a module just save the code you want in a file with the file extension .py:\n",
    "\n",
    "def wel(newname):\n",
    "  print(\"Hello, \" + newname) \n",
    "\n",
    "# Now we can use the module we just created, by using the import statement:\n",
    "# Import the module named mymodule, and call the wel function\n",
    "import mymodule\n",
    "\n",
    "class8.wel(\"Jonathan\")"
   ]
  },
  {
   "cell_type": "code",
   "execution_count": 2,
   "metadata": {},
   "outputs": [
    {
     "name": "stdout",
     "output_type": "stream",
     "text": [
      "a = 30\n",
      "a = 20\n",
      "a = 10\n",
      "a = 30\n",
      "a = 30\n",
      "a = 30\n"
     ]
    }
   ],
   "source": [
    "# A namespace is a system to have a unique name for each and every object in Python.\n",
    "#An object might be a variable or a method. Python itself maintains a namespace in the form of a Python dictionary. \n",
    "#Let’s go through an example, a directory-file system structure in computers.\n",
    "\n",
    "#A scope is the portion of a program from where a namespace can be accessed directly without any prefix.\n",
    "#At any given moment, there are at least three nested scopes.\n",
    "#Scope of the current function which has local names\n",
    "#Scope of the module which has global names\n",
    "##Outermost scope which has built-in names\n",
    "#When a reference is made inside a function, the name is searched in the local namespace, then in the global namespace and finally in the built-in namespace.\n",
    "\n",
    "def outer_function():\n",
    "    a = 20\n",
    "\n",
    "    def inner_function():\n",
    "        a = 30\n",
    "        print('a =', a)\n",
    "\n",
    "    inner_function()\n",
    "    print('a =', a)\n",
    "\n",
    "\n",
    "a = 10\n",
    "outer_function()\n",
    "print('a =', a)\n",
    "\n",
    "def outer_function():\n",
    "    global a\n",
    "    a = 20\n",
    "\n",
    "    def inner_function():\n",
    "        global a\n",
    "        a = 30\n",
    "        print('a =', a)\n",
    "\n",
    "    inner_function()\n",
    "    print('a =', a)\n",
    "\n",
    "\n",
    "a = 10\n",
    "outer_function()\n",
    "print('a =', a)\n",
    "\n",
    "# Here, all references and assignments are to the global a due to the use of keyword global.\n"
   ]
  },
  {
   "cell_type": "code",
   "execution_count": 18,
   "metadata": {},
   "outputs": [
    {
     "name": "stdout",
     "output_type": "stream",
     "text": [
      "inner: local\n",
      "outer: local\n"
     ]
    }
   ],
   "source": [
    "#  nonlocal vraiable\n",
    "\n",
    "#Nonlocal variables are used in nested functions whose local scope is not defined.\n",
    "#This means that the variable can be neither in the local nor the global scope.\n",
    "#Let's see an example of how a global variable is created in Python.\n",
    "#We use nonlocal keywords to create nonlocal variables.\n",
    "\n",
    "\n",
    "def outer():\n",
    "    x = \"local\"\n",
    "\n",
    "    def inner():\n",
    "        nonlocal x\n",
    "        x = \"non\"\n",
    "        print(\"inner:\", x)\n",
    "\n",
    "    inner()\n",
    "    print(\"outer:\", x)\n",
    "\n",
    "\n",
    "outer()"
   ]
  },
  {
   "cell_type": "code",
   "execution_count": 15,
   "metadata": {},
   "outputs": [],
   "source": [
    "## overview of OOPS\n",
    "# Object Oriented Approach : An Introduction\n",
    "#Python is an object oriented language because it provides the features to implement an object oriented model. \n",
    "#These features includes Abstraction, encapsulation, inheritance and polymorphism.\n",
    "#OOPS is about developing an application around its data, i.e. \n",
    "#objects which provides the access to their properties and the possible operations in their own way.\n",
    "\n",
    "#Abstraction\n",
    "#One of the most fundamental concept of OOPs is Abstraction. \n",
    "#Abstraction is a process where you show only “relevant” data and “hide” unnecessary details of an object from the user. \n",
    "#For example, when you login to your Amazon account online, you enter your user_id and password and press login,\n",
    "#what happens when you press login,\n",
    "#how the input data sent to amazon server, how it gets verified is all abstracted away from the you.\n",
    "\n",
    "#Encapsulation is:\n",
    "##Binding the data with the code that manipulates it.\n",
    "#It keeps the data and the code safe from external interference\n",
    "\n",
    "# inheriatance\n",
    "#Inheritance is the mechanism by which an object acquires the some/all properties of another object.\n",
    "#It supports the concept of hierarchical classification.\n",
    "\n",
    "# ploymorphism#\n",
    "#Polymorphism means to process objects differently based on their data type.\n",
    "#In other words it means, one method with multiple implementation, for a certain class of action. \n",
    "#And which implementation to be used is decided at runtime depending upon the situation (i.e., data type of the object)\n",
    "#This can be implemented by designing a generic interface, which provides generic methods for a certain class of action and there can be multiple classes, \n",
    "#which provides the implementation of these generic methods.\n",
    "\n",
    "\n"
   ]
  },
  {
   "cell_type": "code",
   "execution_count": 16,
   "metadata": {},
   "outputs": [],
   "source": [
    "# import techniques and underscores (previous examples)"
   ]
  },
  {
   "cell_type": "code",
   "execution_count": null,
   "metadata": {},
   "outputs": [],
   "source": []
  }
 ],
 "metadata": {
  "kernelspec": {
   "display_name": "Python 3",
   "language": "python",
   "name": "python3"
  },
  "language_info": {
   "codemirror_mode": {
    "name": "ipython",
    "version": 3
   },
   "file_extension": ".py",
   "mimetype": "text/x-python",
   "name": "python",
   "nbconvert_exporter": "python",
   "pygments_lexer": "ipython3",
   "version": "3.7.4"
  }
 },
 "nbformat": 4,
 "nbformat_minor": 4
}
