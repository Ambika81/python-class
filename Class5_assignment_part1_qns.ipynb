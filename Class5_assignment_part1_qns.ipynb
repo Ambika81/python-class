{
 "cells": [
  {
   "cell_type": "code",
   "execution_count": null,
   "metadata": {},
   "outputs": [],
   "source": [
    "#1.  Write a function calculation() such that it can accept two variables and\n",
    "#calculate the addition and subtraction of it.\n",
    "#And also it must return both addition and subtraction in a single return call\n",
    "\n",
    "#2. : Write a function func1() such that it can accept a variable length of  argument and print all arguments value\n",
    "\n",
    "#3.Create a function showEmployee() in such a way that it should accept employee name, and it’s salary and display both, and\n",
    "#if the salary is missing in function call it should show it as 9000\n",
    "\n",
    "#4.Assign a different name to function and call it through the new name\n",
    "\n",
    "#5.Return the largest item from the given list (use max function)\n",
    "\n",
    "#6. write a list comprehension to print even numbers\n",
    "\n",
    "#7. what is a function?\n",
    "\n",
    "#8. What are the three types of arguments in function with example\n",
    "\n",
    "#9. Example for local and global scope variable in a function."
   ]
  }
 ],
 "metadata": {
  "kernelspec": {
   "display_name": "Python 3",
   "language": "python",
   "name": "python3"
  },
  "language_info": {
   "codemirror_mode": {
    "name": "ipython",
    "version": 3
   },
   "file_extension": ".py",
   "mimetype": "text/x-python",
   "name": "python",
   "nbconvert_exporter": "python",
   "pygments_lexer": "ipython3",
   "version": "3.7.4"
  }
 },
 "nbformat": 4,
 "nbformat_minor": 4
}
