{
 "cells": [
  {
   "cell_type": "code",
   "execution_count": 16,
   "metadata": {},
   "outputs": [
    {
     "name": "stdout",
     "output_type": "stream",
     "text": [
      "10\n",
      "15\n",
      "30\n",
      "13\n",
      "121\n"
     ]
    }
   ],
   "source": [
    "#Lambda functions can have any number of arguments but only one expression. The expression is evaluated and returned. \n",
    "# Lambda functions can be used wherever function objects are required.\n",
    "\n",
    "#Here is an example of lambda function that doubles the input value\n",
    "#1\n",
    "double = lambda x: x * 2     \n",
    "\n",
    "print(double(5))\n",
    "\n",
    "#2\n",
    "x = lambda a : a + 10\n",
    "print(x(5)) \n",
    "\n",
    "#3\n",
    "x = lambda a, b : a * b\n",
    "print(x(5, 6)) \n",
    "\n",
    "#4\n",
    "x = lambda a, b, c : a + b + c\n",
    "print(x(5, 6, 2)) \n",
    "\n",
    "\n",
    "# example with normal funcrtion\n",
    "def myfunc(n):\n",
    "  return lambda n : n * n\n",
    "\n",
    "mydoubler = myfunc(1)\n",
    "\n",
    "print(mydoubler(11))"
   ]
  },
  {
   "cell_type": "code",
   "execution_count": 15,
   "metadata": {},
   "outputs": [
    {
     "name": "stdout",
     "output_type": "stream",
     "text": [
      "[4, 6, 8, 12]\n"
     ]
    }
   ],
   "source": [
    "\n",
    "#The filter() function in Python takes in a function and a list as arguments.\n",
    "# The function is called with all the items in the list and\n",
    "# a new list is returned which contains items for which the function evaluates to True\n",
    "\n",
    "# Program to filter out only the even items from a list\n",
    "my_list = [1, 5, 4, 6, 8, 11, 3, 12]\n",
    "\n",
    "new_list = list(filter(lambda x: (x%2 == 0) , my_list))\n",
    "\n",
    "print(new_list)\n",
    "\n"
   ]
  },
  {
   "cell_type": "code",
   "execution_count": 3,
   "metadata": {},
   "outputs": [
    {
     "name": "stdout",
     "output_type": "stream",
     "text": [
      "[2, 10, 8, 12, 16, 22, 6, 24]\n"
     ]
    }
   ],
   "source": [
    "#The map() function in Python takes in a function and a list.\n",
    "#The function is called with all the items in the list and a new list is returned\n",
    "# which contains items returned by that function for each item.\n",
    "my_list = [1, 5, 4, 6, 8, 11, 3, 12]\n",
    "\n",
    "new_list = list(map(lambda x: x * 2 , my_list))\n",
    "\n",
    "print(new_list)"
   ]
  },
  {
   "cell_type": "code",
   "execution_count": 14,
   "metadata": {},
   "outputs": [],
   "source": [
    "f= open(\"new.txt\",\"w+\")\n",
    "for i in range(10):\n",
    "     f.write(\"This is line %d\\r\\n\" % (i+1))\n",
    "\n"
   ]
  },
  {
   "cell_type": "code",
   "execution_count": 21,
   "metadata": {},
   "outputs": [],
   "source": [
    "# You can also append/add a new text to the already existing file or a new file. \n",
    "f=open(\"new.txt\", \"a+\")\n",
    "for i in range(2):\n",
    "     f.write(\"Appended line %d\\r\\n\" % (i+1))"
   ]
  },
  {
   "cell_type": "code",
   "execution_count": 17,
   "metadata": {},
   "outputs": [
    {
     "name": "stdout",
     "output_type": "stream",
     "text": [
      "This is line 1\n",
      "\n",
      "This is line 2\n",
      "\n",
      "This is line 3\n",
      "\n",
      "This is line 4\n",
      "\n",
      "This is line 5\n",
      "\n",
      "This is line 6\n",
      "\n",
      "This is line 7\n",
      "\n",
      "This is line 8\n",
      "\n",
      "This is line 9\n",
      "\n",
      "This is line 10\n",
      "\n",
      "Appended line 1\n",
      "\n",
      "Appended line 2\n",
      "\n",
      "\n",
      "\n",
      "Appended line 1\n",
      "\n",
      "Appended line 2\n",
      "\n",
      "\n"
     ]
    }
   ],
   "source": [
    "f=open(\"new.txt\", \"r\")\n",
    "#We use the mode function in the code to check that the file is in open mode. If yes, we proceed ahead \n",
    "if f.mode == 'r':\n",
    "    contents =f.read() ## Use f.read to read file data and store it in variable content \n",
    "    print (contents)\n",
    "    #or, readlines reads the individual line into a list\n",
    "    fl =f.readlines()\n",
    "    for x in fl:\n",
    "        print(x)\n"
   ]
  },
  {
   "cell_type": "code",
   "execution_count": 27,
   "metadata": {},
   "outputs": [],
   "source": []
  },
  {
   "cell_type": "code",
   "execution_count": 40,
   "metadata": {},
   "outputs": [],
   "source": [
    "import csv\n",
    "fields = ['Name', 'Branch', 'Year', 'CGPA']  \n",
    "    \n",
    "# data rows of csv file  \n",
    "rows = [ ['Nikhil', 'COE', '2', '9.0'],  \n",
    "         ['Sanchit', 'COE', '2', '9.1'],  \n",
    "         ['Aditya', 'IT', '2', '9.3'],  \n",
    "         ['Sagar', 'SE', '1', '9.5'],  \n",
    "         ['Prateek', 'MCE', '3', '7.8'],  \n",
    "         ['Sahil', 'EP', '2', '9.1']]  \n",
    "    \n",
    "# name of csv file  \n",
    "filename = \"s.csv\"\n",
    "\n",
    "with open(filename, 'w') as csvfile:  \n",
    "    # creating a csv writer object  \n",
    "    csvwriter = csv.writer(csvfile)  \n",
    "        \n",
    "    # writing the fields  \n",
    "    csvwriter.writerow(fields)  \n",
    "        \n",
    "    # writing the data rows  \n",
    "    csvwriter.writerows(rows) \n",
    "    "
   ]
  },
  {
   "cell_type": "code",
   "execution_count": 20,
   "metadata": {},
   "outputs": [],
   "source": [
    "import csv\n",
    "mydict =[{'branch': 'COE', 'cgpa': '9.0', 'name': 'Nikhil', 'year': '2'},  \n",
    "         {'branch': 'COE', 'cgpa': '9.1', 'name': 'Sanchit', 'year': '2'},  \n",
    "         {'branch': 'IT', 'cgpa': '9.3', 'name': 'Aditya', 'year': '2'},  \n",
    "         {'branch': 'SE', 'cgpa': '9.5', 'name': 'Sagar', 'year': '1'},  \n",
    "         {'branch': 'MCE', 'cgpa': '7.8', 'name': 'Prateek', 'year': '3'},  \n",
    "         {'branch': 'EP', 'cgpa': '9.1', 'name': 'Sahil', 'year': '2'}]  \n",
    "    \n",
    "# field names  \n",
    "fields = ['name', 'branch', 'year', 'cgpa']  \n",
    "    \n",
    "# name of csv file  \n",
    "filename = \"univ.csv\"\n",
    "    \n",
    "# writing to csv file  \n",
    "with open(filename, 'w') as csvfile:  \n",
    "    # creating a csv dict writer object  \n",
    "    writer = csv.DictWriter(csvfile, fieldnames = fields)  \n",
    "        \n",
    "    # writing headers (field names)  \n",
    "    writer.writeheader()  \n",
    "        \n",
    "    # writing data rows  \n",
    "    writer.writerows(mydict)  "
   ]
  },
  {
   "cell_type": "code",
   "execution_count": 44,
   "metadata": {},
   "outputs": [
    {
     "name": "stdout",
     "output_type": "stream",
     "text": [
      "{\n",
      "    \"name\": \"sathiyajith\",\n",
      "    \"rollno\": 56,\n",
      "    \"cgpa\": 8.6,\n",
      "    \"phonenumber\": \"9976770500\"\n",
      "}\n"
     ]
    }
   ],
   "source": [
    "#JavaScript Object Notation (JSON) is a standardized format commonly used to transfer data as text that can be sent over a network. ... \n",
    "#JSON represents objects as name/value pairs, just like a Python dictionary.\n",
    "import json \n",
    "  \n",
    "# Data to be written \n",
    "dictionary ={ \n",
    "    \"name\" : \"sathiyajith\", \n",
    "    \"rollno\" : 56, \n",
    "    \"cgpa\" : 8.6, \n",
    "    \"phonenumber\" : \"9976770500\"\n",
    "} \n",
    "  \n",
    "# Serializing json  \n",
    "json_object = json.dumps(dictionary, indent = 4) \n",
    "  \n",
    "# Writing to sample.json \n",
    "with open(\"sample.json\", \"w\") as outfile: \n",
    "    outfile.write(json_object) \n",
    "    print(json_object)"
   ]
  },
  {
   "cell_type": "code",
   "execution_count": 45,
   "metadata": {},
   "outputs": [],
   "source": [
    "#JavaScript Object Notation (JSON) is a standardized format commonly used to transfer data as text that can be sent over a network. ... \n",
    "#JSON represents objects as name/value pairs, just like a Python dictionary.\n",
    "import json \n",
    "  \n",
    "# Data to be written \n",
    "dictionary ={ \n",
    "    \"name\" : \"sathiyajith\", \n",
    "    \"rollno\" : 56, \n",
    "    \"cgpa\" : 8.6, \n",
    "    \"phonenumber\" : \"9976770500\"\n",
    "} \n",
    "  \n",
    "with open(\"sample.json\", \"w\") as outfile: \n",
    "    json.dump(dictionary, outfile) "
   ]
  },
  {
   "cell_type": "code",
   "execution_count": 2,
   "metadata": {},
   "outputs": [
    {
     "data": {
      "text/plain": [
       "10"
      ]
     },
     "execution_count": 2,
     "metadata": {},
     "output_type": "execute_result"
    }
   ],
   "source": [
    "def double(x):\n",
    "   return  x *2\n",
    "double(5)"
   ]
  },
  {
   "cell_type": "code",
   "execution_count": 7,
   "metadata": {},
   "outputs": [
    {
     "data": {
      "text/plain": [
       "6"
      ]
     },
     "execution_count": 7,
     "metadata": {},
     "output_type": "execute_result"
    }
   ],
   "source": [
    "#x = lambda a, b, c : a + b + c\n",
    "#print(x(5, 6, 2)) \n",
    "\n",
    "func_name = lambda a,b,c : a*b*c\n",
    "func_name(1,2,3)\n",
    "\n",
    "def x(a,b,c):\n",
    "    return a+b+c\n",
    "x(3,4,5)"
   ]
  },
  {
   "cell_type": "code",
   "execution_count": null,
   "metadata": {},
   "outputs": [],
   "source": []
  }
 ],
 "metadata": {
  "kernelspec": {
   "display_name": "Python 3",
   "language": "python",
   "name": "python3"
  },
  "language_info": {
   "codemirror_mode": {
    "name": "ipython",
    "version": 3
   },
   "file_extension": ".py",
   "mimetype": "text/x-python",
   "name": "python",
   "nbconvert_exporter": "python",
   "pygments_lexer": "ipython3",
   "version": "3.7.4"
  }
 },
 "nbformat": 4,
 "nbformat_minor": 4
}
