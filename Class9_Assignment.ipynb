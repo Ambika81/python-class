{
 "cells": [
  {
   "cell_type": "code",
   "execution_count": 3,
   "metadata": {},
   "outputs": [
    {
     "name": "stdout",
     "output_type": "stream",
     "text": [
      "[' ', ' ', ' ', ' ', ' ', ' @', '.', ' ', ' ', '@', '.', ' ', ' ']\n"
     ]
    }
   ],
   "source": [
    "# # Class9_Assignment\n",
    "#1\n",
    "#  example for redirecting the output to excel file\n",
    "\n",
    "#2 using split\n",
    "#write re to seperate non-digit characters\n",
    "# value = \"two 2 four 4 six 6\"\n",
    "\n",
    "\n",
    "# 3\n",
    "#Print the position (start- and end-position) of the first match occurrence.\n",
    "#The regular expression looks for any words that starts with an upper case \"A\":\n",
    "\n",
    "\n",
    "# 4\n",
    "#Replace every white-space character with the number 45:\n",
    "\n",
    "#5\n",
    "#mystr = 'send an email 6789 from this @gmail.com to test@user.com 34 times'\n",
    "# print only characters \n",
    "# print only words using findall\n"
   ]
  },
  {
   "cell_type": "code",
   "execution_count": 5,
   "metadata": {},
   "outputs": [
    {
     "name": "stdout",
     "output_type": "stream",
     "text": [
      "<re.Match object; span=(0, 7), match='America'>\n",
      "America45Africa\n"
     ]
    }
   ],
   "source": []
  },
  {
   "cell_type": "code",
   "execution_count": 4,
   "metadata": {},
   "outputs": [
    {
     "name": "stdout",
     "output_type": "stream",
     "text": [
      "[' ', ' ', ' ', ' ', ' ', ' @', '.', ' ', ' ', '@', '.', ' ', ' ']\n"
     ]
    }
   ],
   "source": []
  },
  {
   "cell_type": "code",
   "execution_count": null,
   "metadata": {},
   "outputs": [],
   "source": []
  }
 ],
 "metadata": {
  "kernelspec": {
   "display_name": "Python 3",
   "language": "python",
   "name": "python3"
  },
  "language_info": {
   "codemirror_mode": {
    "name": "ipython",
    "version": 3
   },
   "file_extension": ".py",
   "mimetype": "text/x-python",
   "name": "python",
   "nbconvert_exporter": "python",
   "pygments_lexer": "ipython3",
   "version": "3.7.4"
  }
 },
 "nbformat": 4,
 "nbformat_minor": 4
}
