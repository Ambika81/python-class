{
 "cells": [
  {
   "cell_type": "code",
   "execution_count": 1,
   "metadata": {},
   "outputs": [],
   "source": [
    "#The Python Standard Library is a collection of script modules accessible\n",
    "#to a Python program to simplify the programming process and removing the need to rewrite commonly used commands.\n",
    "\n",
    "#modules written in Python that provide standardized solutions for many problems that occur in everyday programming.\n",
    "##Some of these modules are explicitly designed to encourage and \n",
    "#enhance the portability of Python programs by abstracting away platform-specifics into platform-neutral APIs.\n",
    "\n",
    "#built in function\n",
    "# built in data typrs\n",
    "# exceptions\n",
    "# data types\n",
    "# numerical and mathematicl modules\n",
    "# files and directiories\n",
    "# OS services\n",
    "# Networking services\n",
    "# internet data handling\n",
    "# structured markup tool"
   ]
  },
  {
   "cell_type": "code",
   "execution_count": null,
   "metadata": {},
   "outputs": [],
   "source": [
    "# redirect output\n",
    "import  sys\n",
    "sys. stdout = open(\"test.txt\", \"w\")\n",
    "print(\"Hello World\")\n",
    "sys. stdout. close()"
   ]
  },
  {
   "cell_type": "code",
   "execution_count": 1,
   "metadata": {},
   "outputs": [
    {
     "name": "stdout",
     "output_type": "stream",
     "text": [
      "D:\\python\\Python_Class_july\n"
     ]
    }
   ],
   "source": [
    "import os \n",
    "print(os.getcwd()) "
   ]
  },
  {
   "cell_type": "code",
   "execution_count": null,
   "metadata": {},
   "outputs": [],
   "source": [
    "# when you use os commands...we will use file descriptor (fd)\n",
    "\n",
    "import os \n",
    "fd = \"GFG.txt\"\n",
    "  \n",
    "# popen() is similar to open() \n",
    "file = open(fd, 'w') \n",
    "file.write(\"Hello\") \n",
    "file.close() \n",
    "file = open(fd, 'r') \n",
    "text = file.read() \n",
    "print(text) \n",
    "  \n",
    "# popen() provides a pipe/gateway and accesses the file directly \n",
    "file = os.popen(fd, 'w') \n",
    "file.write(\"Hello\") \n",
    "# File not closed, shown in next function.\n",
    "\n",
    "import os \n",
    "fd = \"GFG.txt\"\n",
    "os.rename(fd,'New.txt')  # need to chk\n",
    "os.rename(fd,'New.txt')"
   ]
  },
  {
   "cell_type": "code",
   "execution_count": 3,
   "metadata": {},
   "outputs": [
    {
     "name": "stdout",
     "output_type": "stream",
     "text": [
      "<re.Match object; span=(0, 17), match='The rain in Spain'>\n",
      "['ai', 'ai']\n",
      "[]\n"
     ]
    }
   ],
   "source": [
    "# Regex\n",
    "# A RegEx, or Regular Expression, is a sequence of characters that forms a search pattern.\n",
    "#RegEx can be used to check if a string contains the specified search pattern.\n",
    "# Import the re module:\n",
    "import re\n",
    "\n",
    "#Search the string to see if it starts with \"The\" and ends with \"Spain\":\n",
    "txt = \"The rain in Spain\"\n",
    "x = re.search(\"^The.*Spain$\", txt) # returndd full string\n",
    "print(x)\n",
    "x = re.findall(\"ai\", txt) # returns ai,ai\n",
    "print(x)\n",
    "x = re.findall(\"Portugal\", txt) # returns empty\n",
    "print(x)"
   ]
  },
  {
   "cell_type": "code",
   "execution_count": 9,
   "metadata": {},
   "outputs": [
    {
     "name": "stdout",
     "output_type": "stream",
     "text": [
      "['The', 'rainin', 'Spain']\n",
      "['The', 'rainin Spain']\n",
      "The9rainin9Spain\n",
      "The9rainin9Spain\n",
      "(11, 16)\n",
      "rainin\n"
     ]
    }
   ],
   "source": [
    "#Print a list of all matches:\n",
    "import re\n",
    "\n",
    "txt = \"The rainin Spain\"\n",
    "x = re.search(\"\\s\", txt)\n",
    "#Split at each white-space character\n",
    "x = re.split(\"\\s\", txt)\n",
    "print(x) \n",
    "#Split the string only at the first occurrence:\n",
    "x = re.split(\"\\s\", txt, 1)\n",
    "print(x) \n",
    "#Replace every white-space character with the number 9:\n",
    "x = re.sub(\"\\s\", \"9\", txt)\n",
    "print(x) \n",
    "#Replace the first 2 occurrences:\n",
    "x = re.sub(\"\\s\", \"9\", txt, 2)\n",
    "print(x) \n",
    "\n",
    "#Print the position (start- and end-position) of the first match occurrence.\n",
    "#The regular expression looks for any words that starts with an upper case \"S\":\n",
    "x = re.search(r\"\\bS\\w+\", txt)\n",
    "print(x.span()) \n",
    "\n",
    "\n",
    "#Print the part of the string where there was a match.\n",
    "#The regular expression looks for any words that starts with an upper case \"S\":\n",
    "x = re.search(r\"\\br\\w+\", txt)\n",
    "print(x.group()) "
   ]
  },
  {
   "cell_type": "code",
   "execution_count": 12,
   "metadata": {},
   "outputs": [
    {
     "name": "stdout",
     "output_type": "stream",
     "text": [
      "Number of ticks since 12:00am, August 3, 2020: 1596538526.9851751\n"
     ]
    }
   ],
   "source": [
    "import time\n",
    "ticks = time.time()\n",
    "print( \"Number of ticks since 12:00am, August 3, 2020:\", ticks)"
   ]
  },
  {
   "cell_type": "code",
   "execution_count": 8,
   "metadata": {},
   "outputs": [
    {
     "ename": "SyntaxError",
     "evalue": "Missing parentheses in call to 'print'. Did you mean print(\"Local current time :\", localtime)? (<ipython-input-8-53f3606a7b54>, line 2)",
     "output_type": "error",
     "traceback": [
      "\u001b[1;36m  File \u001b[1;32m\"<ipython-input-8-53f3606a7b54>\"\u001b[1;36m, line \u001b[1;32m2\u001b[0m\n\u001b[1;33m    print \"Local current time :\", localtime\u001b[0m\n\u001b[1;37m                               ^\u001b[0m\n\u001b[1;31mSyntaxError\u001b[0m\u001b[1;31m:\u001b[0m Missing parentheses in call to 'print'. Did you mean print(\"Local current time :\", localtime)?\n"
     ]
    }
   ],
   "source": []
  },
  {
   "cell_type": "code",
   "execution_count": 16,
   "metadata": {},
   "outputs": [
    {
     "name": "stdout",
     "output_type": "stream",
     "text": [
      "Here is the calendar:\n",
      "    August 2020\n",
      "Mo Tu We Th Fr Sa Su\n",
      "                1  2\n",
      " 3  4  5  6  7  8  9\n",
      "10 11 12 13 14 15 16\n",
      "17 18 19 20 21 22 23\n",
      "24 25 26 27 28 29 30\n",
      "31\n",
      "\n"
     ]
    }
   ],
   "source": [
    "import calendar\n",
    "\n",
    "cal = calendar.month(2020, 8)\n",
    "print (\"Here is the calendar:\")\n",
    "print(cal)"
   ]
  },
  {
   "cell_type": "code",
   "execution_count": 20,
   "metadata": {},
   "outputs": [
    {
     "name": "stdout",
     "output_type": "stream",
     "text": [
      "August\n",
      "hour = 12\n",
      "minute = 34\n",
      "second = 56\n",
      "microsecond = 0\n"
     ]
    }
   ],
   "source": [
    "import datetime\n",
    "from datetime import time\n",
    "x = datetime.datetime(2020, 8, 4)\n",
    "\n",
    "print(x.strftime(\"%B\")) \n",
    "\n",
    "a = time(12,34,56) ## need to chk\n",
    " \n",
    "print(\"hour =\", a.hour)\n",
    "print(\"minute =\", a.minute)\n",
    "print(\"second =\", a.second)\n",
    "print(\"microsecond =\", a.microsecond)"
   ]
  },
  {
   "cell_type": "code",
   "execution_count": 19,
   "metadata": {},
   "outputs": [
    {
     "name": "stdout",
     "output_type": "stream",
     "text": [
      "year = 2017\n",
      "month = 11\n",
      "hour = 23\n",
      "minute = 55\n",
      "timestamp = 1511893559.34238\n"
     ]
    }
   ],
   "source": [
    "from datetime import datetime\n",
    "a = datetime(2017, 11, 28, 23, 55, 59, 342380) ##  check for the builtin output\n",
    "print(\"year =\", a.year)\n",
    "print(\"month =\", a.month)\n",
    "print(\"hour =\", a.hour)\n",
    "print(\"minute =\", a.minute)\n",
    "print(\"timestamp =\", a.timestamp())"
   ]
  },
  {
   "cell_type": "code",
   "execution_count": 20,
   "metadata": {},
   "outputs": [],
   "source": [
    "#importing module \n",
    "import logging \n",
    "  \n",
    "#Create and configure logger \n",
    "logging.basicConfig(filename=\"newfile.log\", \n",
    "                    format='%(asctime)s %(message)s', \n",
    "                    filemode='w') \n",
    "  \n",
    "#Creating an object \n",
    "logger=logging.getLogger() \n",
    "  \n",
    "#Setting the threshold of logger to DEBUG \n",
    "logger.setLevel(logging.DEBUG) \n",
    "  \n",
    "#Test messages \n",
    "logger.debug(\"Harmless debug Message\") \n",
    "logger.info(\"Just an information\") \n",
    "logger.warning(\"Its a Warning\") \n",
    "logger.error(\"Did you try to divide by zero\") \n",
    "logger.critical(\"Internet is down\") "
   ]
  },
  {
   "cell_type": "code",
   "execution_count": 28,
   "metadata": {},
   "outputs": [
    {
     "name": "stdout",
     "output_type": "stream",
     "text": [
      "toyato\n",
      "Volvo\n",
      "BMW\n",
      "['toyato', 'Volvo', 'BMW', 'honda']\n",
      "['toyato', 'BMW', 'honda']\n"
     ]
    },
    {
     "ename": "TypeError",
     "evalue": "'builtin_function_or_method' object is not subscriptable",
     "output_type": "error",
     "traceback": [
      "\u001b[1;31m---------------------------------------------------------------------------\u001b[0m",
      "\u001b[1;31mTypeError\u001b[0m                                 Traceback (most recent call last)",
      "\u001b[1;32m<ipython-input-28-034d0c391e57>\u001b[0m in \u001b[0;36m<module>\u001b[1;34m\u001b[0m\n\u001b[0;32m     11\u001b[0m \u001b[0mc\u001b[0m\u001b[1;33m.\u001b[0m\u001b[0mpop\u001b[0m\u001b[1;33m(\u001b[0m\u001b[1;36m1\u001b[0m\u001b[1;33m)\u001b[0m\u001b[1;33m\u001b[0m\u001b[1;33m\u001b[0m\u001b[0m\n\u001b[0;32m     12\u001b[0m \u001b[0mprint\u001b[0m\u001b[1;33m(\u001b[0m\u001b[0mc\u001b[0m\u001b[1;33m)\u001b[0m\u001b[1;33m\u001b[0m\u001b[1;33m\u001b[0m\u001b[0m\n\u001b[1;32m---> 13\u001b[1;33m \u001b[0mc\u001b[0m\u001b[1;33m.\u001b[0m\u001b[0mremove\u001b[0m\u001b[1;33m[\u001b[0m\u001b[1;36m0\u001b[0m\u001b[1;33m]\u001b[0m\u001b[1;33m\u001b[0m\u001b[1;33m\u001b[0m\u001b[0m\n\u001b[0m",
      "\u001b[1;31mTypeError\u001b[0m: 'builtin_function_or_method' object is not subscriptable"
     ]
    }
   ],
   "source": [
    "#An array is a special variable, which can hold more than one value at a times =\n",
    "c = [\"Ford\", \"Volvo\", \"BMW\"] \n",
    "x = c[0]\n",
    "c[0] = \"toyato\"\n",
    "x = len(c)\n",
    "for x in c:\n",
    "    print(x)\n",
    "\n",
    "c.append(\"honda\")\n",
    "print(c)\n",
    "c.pop(1)\n",
    "print(c)\n",
    "c.remove[0] # wil chk"
   ]
  },
  {
   "cell_type": "code",
   "execution_count": null,
   "metadata": {},
   "outputs": [],
   "source": []
  }
 ],
 "metadata": {
  "kernelspec": {
   "display_name": "Python 3",
   "language": "python",
   "name": "python3"
  },
  "language_info": {
   "codemirror_mode": {
    "name": "ipython",
    "version": 3
   },
   "file_extension": ".py",
   "mimetype": "text/x-python",
   "name": "python",
   "nbconvert_exporter": "python",
   "pygments_lexer": "ipython3",
   "version": "3.7.4"
  }
 },
 "nbformat": 4,
 "nbformat_minor": 4
}
