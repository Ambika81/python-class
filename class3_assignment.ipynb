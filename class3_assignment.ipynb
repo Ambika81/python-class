{
 "cells": [
  {
   "cell_type": "code",
   "execution_count": 1,
   "metadata": {},
   "outputs": [
    {
     "data": {
      "text/plain": [
       "4.0"
      ]
     },
     "execution_count": 1,
     "metadata": {},
     "output_type": "execute_result"
    }
   ],
   "source": [
    "# 1. write a while loop to print \"Hello Geeks\" ()\n",
    "\n",
    "\n",
    "# 2. Write a if condition to check whether the given number is positive.\n",
    "\n",
    "# input a number using \"user input tatement\"\n",
    "# write a if condition to check the given number is positive or negative\n",
    "\n",
    "3. # write an nested if and elif to check the given number is greater than 20\n",
    "\n",
    "4. #write an while to check given 'n' and if 'n' equals 7..exit the program\n",
    "\n",
    "# 5 assignments \n",
    "# for loop\n",
    "\n",
    "#a. Prints out the numbers 0,1,2,3,4\n",
    "#b. Prints out 3,4,5\n",
    "#c. Prints out only odd numbers - 1,3,5,7,9\n"
   ]
  },
  {
   "cell_type": "code",
   "execution_count": 6,
   "metadata": {},
   "outputs": [
    {
     "name": "stdout",
     "output_type": "stream",
     "text": [
      "1\n",
      "2\n",
      "3\n",
      "4\n",
      "5\n",
      "6\n"
     ]
    }
   ],
   "source": []
  },
  {
   "cell_type": "code",
   "execution_count": 8,
   "metadata": {
    "scrolled": true
   },
   "outputs": [
    {
     "name": "stdout",
     "output_type": "stream",
     "text": [
      "Hello Geek\n",
      "Hello Geek\n",
      "Hello Geek\n"
     ]
    }
   ],
   "source": [
    "# 1\n",
    "count = 0                \n",
    "while (count < 3):\n",
    "        print(\"Hello Geek\")\n",
    "        count = count + 1\n",
    "\n",
    "\n",
    "        \n",
    "\n",
    "\n"
   ]
  },
  {
   "cell_type": "markdown",
   "metadata": {},
   "source": []
  },
  {
   "cell_type": "markdown",
   "metadata": {},
   "source": [
    "\n"
   ]
  },
  {
   "cell_type": "code",
   "execution_count": 11,
   "metadata": {},
   "outputs": [
    {
     "name": "stdout",
     "output_type": "stream",
     "text": [
      "Enter any number:3\n",
      "3 is a positive number.\n"
     ]
    }
   ],
   "source": [
    "# 2\n",
    "s = int( input(\"Enter any number:\"))\n",
    "if s > 0:\n",
    "    print(s, \"is a positive number.\")\n",
    "elif s < 0:\n",
    "        print(s, \"is a negtive number. \")\n"
   ]
  },
  {
   "cell_type": "code",
   "execution_count": 12,
   "metadata": {},
   "outputs": [
    {
     "name": "stdout",
     "output_type": "stream",
     "text": [
      "i is smaller than 15\n",
      "i'm in if Block\n"
     ]
    }
   ],
   "source": [
    "# 3\n",
    "i = 3\n",
    "if (i < 15):\n",
    "        print (\"i is smaller than 15\")\n",
    "        print (\"i'm in if Block\")\n",
    "else:\n",
    "        print (\"i is greater than 15\")\n",
    "        print (\"i'm in else Block\")\n"
   ]
  },
  {
   "cell_type": "code",
   "execution_count": 13,
   "metadata": {},
   "outputs": [
    {
     "name": "stdout",
     "output_type": "stream",
     "text": [
      "1\n",
      "2\n",
      "3\n",
      "4\n",
      "5\n",
      "6\n"
     ]
    }
   ],
   "source": [
    "#4\n",
    "n = 0\n",
    "while(n<8):\n",
    "    n = n+1\n",
    "    if n==7:\n",
    "        break\n",
    "    print(n)\n",
    "    "
   ]
  },
  {
   "cell_type": "code",
   "execution_count": 19,
   "metadata": {},
   "outputs": [
    {
     "name": "stdout",
     "output_type": "stream",
     "text": [
      "0\n",
      "1\n",
      "2\n",
      "3\n",
      "4\n",
      "*****************************\n",
      "3\n",
      "4\n",
      "5\n",
      "*****************************\n",
      "1\n",
      "3\n",
      "5\n",
      "7\n",
      "9\n"
     ]
    }
   ],
   "source": [
    "# 5 assignment for \n",
    "# for loop\n",
    "\n",
    "#a. Prints out the numbers 0,1,2,3,4\n",
    "#b. Prints out 3,4,5\n",
    "#c. Prints out only odd numbers - 1,3,5,7,9\n",
    "\n",
    "#a. Prints out the numbers 0,1,2,3,4\n",
    "for x in range(5):\n",
    "    print(x)\n",
    "print(\"*****************************\")\n",
    "\n",
    "#b. Prints out 3,4,5\n",
    "for x in range(3, 6):\n",
    "    print(x)\n",
    "print(\"*****************************\") \n",
    "\n",
    "#c.    \n",
    "for x in range(10):\n",
    "    # Check if x is even\n",
    "    if x % 2 == 0:\n",
    "        continue\n",
    "    print(x)\n",
    "\n",
    "\n",
    "\n",
    "\n"
   ]
  },
  {
   "cell_type": "code",
   "execution_count": null,
   "metadata": {},
   "outputs": [],
   "source": []
  }
 ],
 "metadata": {
  "kernelspec": {
   "display_name": "Python 3",
   "language": "python",
   "name": "python3"
  },
  "language_info": {
   "codemirror_mode": {
    "name": "ipython",
    "version": 3
   },
   "file_extension": ".py",
   "mimetype": "text/x-python",
   "name": "python",
   "nbconvert_exporter": "python",
   "pygments_lexer": "ipython3",
   "version": "3.7.4"
  }
 },
 "nbformat": 4,
 "nbformat_minor": 4
}
