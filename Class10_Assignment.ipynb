{
 "cells": [
  {
   "cell_type": "code",
   "execution_count": null,
   "metadata": {},
   "outputs": [],
   "source": [
    "# chapter Class and Matplot lib and Pandas\n",
    "#1\n",
    "#  create a class vehicle.\n",
    "# set null input for Name and color\n",
    "# Write the setter method to set the name and coor\n",
    "# write display method to print name and color\n",
    "# create object (carname)  and invoke class \n",
    "# set the object value (carname.setter(input values))\n",
    "# obj.display()\n",
    "# repeat this process for 3 car objects\n",
    "\n",
    "#2  \n",
    "# write a class name computer\n",
    "# make selling_price as private\n",
    "# in initm funcion..provide value for selling_price as 900'\n",
    "# write a method sell() to prunt the initial selling price value\n",
    "# write a method to set setselling price()\n",
    "# create a object and call empty class\n",
    "# object.sell method invoke\n",
    "\n",
    "# now...write a method to cnange the selling price\n",
    "# object.sellingprice = new value\n",
    "# object.sell method ## print the new value\n",
    "\n",
    "\n",
    "# now..change the value using setter method\n",
    "# object.setsellingprice(newvalue)\n",
    "#object.sell method (to see the new value)\n",
    "\n",
    "# this above class program to access private variable __sellingprice and acces it and change the value\n",
    "\n",
    "\n",
    "#3 \n",
    "# Data Aggregation\n",
    "# create a pandas Dataframe of 3 rows and 3 columns and find sum,min,max and mean (rows and columns)\n",
    "\n",
    "#4 matplotlib\n",
    " # x with numpy.random.mormal(three inputs seperated by commas)\n",
    " # y with numpy.random.mormal(three inputs seperated by commas)\n",
    " # plot scatter plot\n",
    "    \n",
    "\n"
   ]
  }
 ],
 "metadata": {
  "kernelspec": {
   "display_name": "Python 3",
   "language": "python",
   "name": "python3"
  },
  "language_info": {
   "codemirror_mode": {
    "name": "ipython",
    "version": 3
   },
   "file_extension": ".py",
   "mimetype": "text/x-python",
   "name": "python",
   "nbconvert_exporter": "python",
   "pygments_lexer": "ipython3",
   "version": "3.7.4"
  }
 },
 "nbformat": 4,
 "nbformat_minor": 4
}
