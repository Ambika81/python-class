{
 "cells": [
  {
   "cell_type": "code",
   "execution_count": null,
   "metadata": {},
   "outputs": [],
   "source": [
    "# create a list\n",
    "# change the item in the created list at the ondex[3]\n",
    "# loop through the list\n",
    "# check for the item exists in the created list\n",
    "# append new item\n",
    "# extend the list with new item\n",
    "# loop through the list with the new items\n",
    "# Remove an item from the list\n",
    "# del an item at the particular index at [2]\n",
    "# create a copy of the list with\n",
    "# append and extend\n",
    "# create a list with list constructor\n",
    "# create a list of numbers from 1 to 10 and print thier squares\n",
    "\n",
    "# class4 part2\n",
    "# Multiply every part of a list by four and assign it to a new list.\n",
    "# We will take the third letter of each word and make a list out of it.\n",
    "# Let’s show how easy you can convert lower case / upper case letters.\n",
    "# properties of tuples\n",
    "# example for concatenating two tuples\n",
    "# create a set which cannot have duplicates\n",
    "# create a dictionary for city name as key and names of the cities as values\n",
    "# Print integers within given start and stop number using range()  \n",
    "# print(\"Printing All even numbers between 2 and 10 using range()\")\n"
   ]
  }
 ],
 "metadata": {
  "kernelspec": {
   "display_name": "Python 3",
   "language": "python",
   "name": "python3"
  },
  "language_info": {
   "codemirror_mode": {
    "name": "ipython",
    "version": 3
   },
   "file_extension": ".py",
   "mimetype": "text/x-python",
   "name": "python",
   "nbconvert_exporter": "python",
   "pygments_lexer": "ipython3",
   "version": "3.7.4"
  }
 },
 "nbformat": 4,
 "nbformat_minor": 4
}
