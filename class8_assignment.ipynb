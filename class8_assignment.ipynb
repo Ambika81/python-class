{
 "cells": [
  {
   "cell_type": "code",
   "execution_count": null,
   "metadata": {},
   "outputs": [],
   "source": [
    "#Chapter 8 Assignment\n",
    "#1\n",
    "# create a module \n",
    "\n",
    "# create a function  with name\n",
    "# save is as myfirstmodule.py\n",
    "# import the .py filename  as a module in another .py\n",
    "\n",
    "# write a function greeting to print a string\n",
    "# write a function person to print name,age and country\n",
    "\n",
    "\n",
    "#2\n",
    "# overview of oops (few points)\n",
    "\n",
    "#3 Importance of underscores\n",
    "\n",
    "# examople for namespace"
   ]
  }
 ],
 "metadata": {
  "kernelspec": {
   "display_name": "Python 3",
   "language": "python",
   "name": "python3"
  },
  "language_info": {
   "codemirror_mode": {
    "name": "ipython",
    "version": 3
   },
   "file_extension": ".py",
   "mimetype": "text/x-python",
   "name": "python",
   "nbconvert_exporter": "python",
   "pygments_lexer": "ipython3",
   "version": "3.7.4"
  }
 },
 "nbformat": 4,
 "nbformat_minor": 4
}
